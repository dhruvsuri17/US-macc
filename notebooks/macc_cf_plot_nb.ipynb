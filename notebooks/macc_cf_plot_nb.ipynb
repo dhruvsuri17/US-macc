{
 "cells": [
  {
   "cell_type": "code",
   "execution_count": null,
   "metadata": {},
   "outputs": [],
   "source": [
    "# In your notebook:\n",
    "import pandas as pd\n",
    "import geopandas as gpd\n",
    "import matplotlib.pyplot as plt\n",
    "import os\n",
    "from county_renewable_potential import overlay_transitions\n",
    "\n",
    "# Load pre-calculated county renewable potential\n",
    "county_path = os.path.join(config['output_dir'], 'renewable_potential', 'county_renewable_potential.csv')\n",
    "county_renewable = pd.read_csv(county_path)\n",
    "\n",
    "# Load county shapefile and join with renewable data\n",
    "counties = gpd.read_file(os.path.join(config['data_dir'], 'raw/cb_2018_us_county_500k/cb_2018_us_county_500k.shp'))\n",
    "counties = counties.merge(county_renewable, on='FIPS', how='left')\n",
    "\n",
    "# Plot the map and overlay plant transitions\n",
    "fig, ax = plt.subplots(figsize=(16, 10))\n",
    "counties.plot(column='resource_category', cmap=custom_cmap, ax=ax)\n",
    "overlay_transitions(ax, counties, ccs_merged_df, ccs_scenario=True)\n",
    "plt.show()"
   ]
  }
 ],
 "metadata": {
  "kernelspec": {
   "display_name": "venv",
   "language": "python",
   "name": "python3"
  },
  "language_info": {
   "name": "python",
   "version": "3.13.2"
  }
 },
 "nbformat": 4,
 "nbformat_minor": 2
}
